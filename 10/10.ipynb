{
 "cells": [
  {
   "cell_type": "code",
   "execution_count": 8,
   "id": "1cb23a82",
   "metadata": {},
   "outputs": [
    {
     "name": "stdout",
     "output_type": "stream",
     "text": [
      "   sepal_length  sepal_width  petal_length  petal_width        class\n",
      "0           5.1          3.5           1.4          0.2  Iris-setosa\n",
      "1           4.9          3.0           1.4          0.2  Iris-setosa\n",
      "2           4.7          3.2           1.3          0.2  Iris-setosa\n",
      "3           4.6          3.1           1.5          0.2  Iris-setosa\n",
      "4           5.0          3.6           1.4          0.2  Iris-setosa\n"
     ]
    },
    {
     "data": {
      "text/plain": [
       "Index(['sepal_length', 'sepal_width', 'petal_length', 'petal_width', 'class'], dtype='object')"
      ]
     },
     "execution_count": 8,
     "metadata": {},
     "output_type": "execute_result"
    }
   ],
   "source": [
    "import pandas as pd\n",
    "\n",
    "df=pd.read_csv('iris.csv')\n",
    "\n",
    "print(df.head())\n",
    "\n",
    "df.columns"
   ]
  },
  {
   "cell_type": "code",
   "execution_count": 9,
   "id": "fc9c23ef",
   "metadata": {},
   "outputs": [
    {
     "name": "stdout",
     "output_type": "stream",
     "text": [
      "   sepal_length  sepal_width  petal_length  petal_width        class\n",
      "0           5.1          3.5           1.4          0.2  Iris-setosa\n",
      "1           4.9          3.0           1.4          0.2  Iris-setosa\n",
      "2           4.7          3.2           1.3          0.2  Iris-setosa\n",
      "3           4.6          3.1           1.5          0.2  Iris-setosa\n",
      "4           5.0          3.6           1.4          0.2  Iris-setosa\n",
      "    sepal_length  sepal_width  petal_length  petal_width            class\n",
      "50           7.0          3.2           4.7          1.4  Iris-versicolor\n",
      "51           6.4          3.2           4.5          1.5  Iris-versicolor\n",
      "52           6.9          3.1           4.9          1.5  Iris-versicolor\n",
      "53           5.5          2.3           4.0          1.3  Iris-versicolor\n",
      "54           6.5          2.8           4.6          1.5  Iris-versicolor\n",
      "     sepal_length  sepal_width  petal_length  petal_width           class\n",
      "100           6.3          3.3           6.0          2.5  Iris-virginica\n",
      "101           5.8          2.7           5.1          1.9  Iris-virginica\n",
      "102           7.1          3.0           5.9          2.1  Iris-virginica\n",
      "103           6.3          2.9           5.6          1.8  Iris-virginica\n",
      "104           6.5          3.0           5.8          2.2  Iris-virginica\n"
     ]
    }
   ],
   "source": [
    "# a. Create data subsets for different species  \n",
    "\n",
    "species1=df[df['class']=='Iris-setosa']\n",
    "\n",
    "species2=df[df['class']=='Iris-versicolor']\n",
    "\n",
    "species3=df[df['class']=='Iris-virginica']\n",
    "\n",
    "\n",
    "print(species1.head())\n",
    "print(species2.head())\n",
    "print(species3.head())\n",
    "\n"
   ]
  },
  {
   "cell_type": "code",
   "execution_count": 10,
   "id": "d07375a1",
   "metadata": {},
   "outputs": [
    {
     "name": "stdout",
     "output_type": "stream",
     "text": [
      "   sepal_length  sepal_width  petal_length  petal_width        class\n",
      "0           5.1          3.5           1.4          0.2  Iris-setosa\n",
      "1           4.9          3.0           1.4          0.2  Iris-setosa\n",
      "2           4.7          3.2           1.3          0.2  Iris-setosa\n",
      "3           4.6          3.1           1.5          0.2  Iris-setosa\n",
      "4           5.0          3.6           1.4          0.2  Iris-setosa\n"
     ]
    }
   ],
   "source": [
    "# b. Merge two subsets\n",
    "\n",
    "merged_data=pd.concat([species1,species2])\n",
    "print(merged_data.head())"
   ]
  },
  {
   "cell_type": "code",
   "execution_count": 11,
   "id": "5ba18753",
   "metadata": {},
   "outputs": [
    {
     "name": "stdout",
     "output_type": "stream",
     "text": [
      "     sepal_length  sepal_width  petal_length  petal_width           class\n",
      "118           7.7          2.6           6.9          2.3  Iris-virginica\n",
      "117           7.7          3.8           6.7          2.2  Iris-virginica\n",
      "122           7.7          2.8           6.7          2.0  Iris-virginica\n",
      "105           7.6          3.0           6.6          2.1  Iris-virginica\n",
      "131           7.9          3.8           6.4          2.0  Iris-virginica\n"
     ]
    }
   ],
   "source": [
    "# c. sort data Petal Length\n",
    "\n",
    "sorted_data=df.sort_values(by='petal_length',ascending=False)\n",
    "\n",
    "print(sorted_data.head())"
   ]
  },
  {
   "cell_type": "code",
   "execution_count": 12,
   "id": "a12a63d0",
   "metadata": {},
   "outputs": [
    {
     "name": "stdout",
     "output_type": "stream",
     "text": [
      "                        0            1            2            3\n",
      "sepal_length          5.1          4.9          4.7          4.6\n",
      "sepal_width           3.5          3.0          3.2          3.1\n",
      "petal_length          1.4          1.4          1.3          1.5\n",
      "petal_width           0.2          0.2          0.2          0.2\n",
      "class         Iris-setosa  Iris-setosa  Iris-setosa  Iris-setosa\n"
     ]
    }
   ],
   "source": [
    "# d. Transposing Data\n",
    "\n",
    "transposed_data=df.head(4).T\n",
    "print(transposed_data)"
   ]
  },
  {
   "cell_type": "code",
   "execution_count": 13,
   "id": "04d54b0e",
   "metadata": {},
   "outputs": [
    {
     "name": "stdout",
     "output_type": "stream",
     "text": [
      "         class      variable  value\n",
      "0  Iris-setosa  sepal_length    5.1\n",
      "1  Iris-setosa  sepal_length    4.9\n",
      "2  Iris-setosa  sepal_length    4.7\n",
      "3  Iris-setosa  sepal_length    4.6\n",
      "4  Iris-setosa  sepal_length    5.0\n"
     ]
    }
   ],
   "source": [
    "# e. Melting Data to long format\n",
    "\n",
    "melted_data= pd.melt(df,id_vars=['class'],value_vars=['sepal_length','sepal_width','petal_length','petal_width'])\n",
    "print(melted_data.head())"
   ]
  },
  {
   "cell_type": "code",
   "execution_count": 14,
   "id": "3c405139",
   "metadata": {},
   "outputs": [
    {
     "name": "stdout",
     "output_type": "stream",
     "text": [
      "variable            class  petal_length  petal_width  sepal_length  \\\n",
      "0             Iris-setosa          73.2         12.2         250.3   \n",
      "1         Iris-versicolor         213.0         66.3         296.8   \n",
      "2          Iris-virginica         277.6        101.3         329.4   \n",
      "\n",
      "variable  sepal_width  \n",
      "0               170.9  \n",
      "1               138.5  \n",
      "2               148.7  \n"
     ]
    }
   ],
   "source": [
    "# f. Casting data to wide format \n",
    "\n",
    "wide_data=melted_data.pivot_table(index='class',columns='variable',values='value',aggfunc='sum').reset_index()\n",
    "\n",
    "print(wide_data.head())"
   ]
  },
  {
   "cell_type": "code",
   "execution_count": null,
   "id": "01a3d9a6",
   "metadata": {},
   "outputs": [],
   "source": []
  }
 ],
 "metadata": {
  "kernelspec": {
   "display_name": "Python 3",
   "language": "python",
   "name": "python3"
  },
  "language_info": {
   "codemirror_mode": {
    "name": "ipython",
    "version": 3
   },
   "file_extension": ".py",
   "mimetype": "text/x-python",
   "name": "python",
   "nbconvert_exporter": "python",
   "pygments_lexer": "ipython3",
   "version": "3.11.9"
  }
 },
 "nbformat": 4,
 "nbformat_minor": 5
}
